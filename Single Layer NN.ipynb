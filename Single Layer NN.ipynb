{
 "cells": [
  {
   "cell_type": "code",
   "execution_count": 1,
   "metadata": {},
   "outputs": [],
   "source": [
    "import numpy as np\n",
    "import matplotlib.pyplot as plt"
   ]
  },
  {
   "cell_type": "code",
   "execution_count": 2,
   "metadata": {},
   "outputs": [],
   "source": [
    "np.random.seed(111)"
   ]
  },
  {
   "cell_type": "code",
   "execution_count": 3,
   "metadata": {},
   "outputs": [],
   "source": [
    "X = np.random.rand(5, 10000)\n",
    "y = np.random.randint(2, size=10000).reshape(1, 10000)"
   ]
  },
  {
   "cell_type": "code",
   "execution_count": 4,
   "metadata": {},
   "outputs": [
    {
     "name": "stdout",
     "output_type": "stream",
     "text": [
      "Shape of X = (5, 10000)\n",
      "Shape of y = (1, 10000)\n"
     ]
    }
   ],
   "source": [
    "print(f'Shape of X = {X.shape}')\n",
    "print(f'Shape of y = {y.shape}')"
   ]
  },
  {
   "cell_type": "code",
   "execution_count": 5,
   "metadata": {},
   "outputs": [],
   "source": [
    "def sigmoid(z):\n",
    "    return 1 / (1 + np.exp(-z))"
   ]
  },
  {
   "cell_type": "code",
   "execution_count": 6,
   "metadata": {},
   "outputs": [],
   "source": [
    "def relu(z):\n",
    "    return z * (z > 0)"
   ]
  },
  {
   "cell_type": "code",
   "execution_count": 7,
   "metadata": {},
   "outputs": [],
   "source": [
    "def relu_derivative(z):\n",
    "    return 1 * (z > 0)"
   ]
  },
  {
   "cell_type": "code",
   "execution_count": 8,
   "metadata": {},
   "outputs": [],
   "source": [
    "hidden_neurons = 6\n",
    "epochs = 10000\n",
    "m = X.shape[1]\n",
    "learning_rate = 0.01\n",
    "cost = [0]*epochs"
   ]
  },
  {
   "cell_type": "code",
   "execution_count": 9,
   "metadata": {},
   "outputs": [],
   "source": [
    "W1 = np.random.randn(hidden_neurons, X.shape[0])*0.01\n",
    "b1 = np.zeros((hidden_neurons, 1)) \n",
    "W2 = np.random.randn(y.shape[0], hidden_neurons)*0.01\n",
    "b2 = np.zeros((y.shape[0], 1))"
   ]
  },
  {
   "cell_type": "code",
   "execution_count": 10,
   "metadata": {},
   "outputs": [
    {
     "name": "stdout",
     "output_type": "stream",
     "text": [
      "Cost after 0 iterations = 0.6931477112380235\n",
      "Cost after 100 iterations = 0.6931453468201875\n",
      "Cost after 200 iterations = 0.6931439109819607\n",
      "Cost after 300 iterations = 0.6931430377175885\n",
      "Cost after 400 iterations = 0.6931425053189006\n",
      "Cost after 500 iterations = 0.6931421794548983\n",
      "Cost after 600 iterations = 0.6931419786999202\n",
      "Cost after 700 iterations = 0.6931418537790383\n",
      "Cost after 800 iterations = 0.6931417748308486\n",
      "Cost after 900 iterations = 0.6931417237499202\n",
      "Cost after 1000 iterations = 0.6931416895542524\n",
      "Cost after 1100 iterations = 0.6931416656467742\n",
      "Cost after 1200 iterations = 0.6931416479376286\n",
      "Cost after 1300 iterations = 0.6931416340334244\n",
      "Cost after 1400 iterations = 0.6931416224978458\n",
      "Cost after 1500 iterations = 0.6931416123822548\n",
      "Cost after 1600 iterations = 0.693141603201962\n",
      "Cost after 1700 iterations = 0.6931415946076182\n",
      "Cost after 1800 iterations = 0.6931415863924023\n",
      "Cost after 1900 iterations = 0.6931415784611856\n",
      "Cost after 2000 iterations = 0.6931415707212969\n",
      "Cost after 2100 iterations = 0.6931415631052427\n",
      "Cost after 2200 iterations = 0.6931415555629745\n",
      "Cost after 2300 iterations = 0.6931415480694333\n",
      "Cost after 2400 iterations = 0.6931415406366348\n",
      "Cost after 2500 iterations = 0.6931415332495249\n",
      "Cost after 2600 iterations = 0.6931415259046694\n",
      "Cost after 2700 iterations = 0.6931415186081656\n",
      "Cost after 2800 iterations = 0.6931415113721123\n",
      "Cost after 2900 iterations = 0.6931415041993291\n",
      "Cost after 3000 iterations = 0.6931414970732803\n",
      "Cost after 3100 iterations = 0.6931414899644417\n",
      "Cost after 3200 iterations = 0.6931414828848529\n",
      "Cost after 3300 iterations = 0.6931414758380783\n",
      "Cost after 3400 iterations = 0.6931414688334809\n",
      "Cost after 3500 iterations = 0.6931414618566641\n",
      "Cost after 3600 iterations = 0.6931414549027152\n",
      "Cost after 3700 iterations = 0.6931414479807815\n",
      "Cost after 3800 iterations = 0.6931414410984568\n",
      "Cost after 3900 iterations = 0.6931414342392932\n",
      "Cost after 4000 iterations = 0.6931414273945573\n",
      "Cost after 4100 iterations = 0.6931414205465706\n",
      "Cost after 4200 iterations = 0.6931414137239421\n",
      "Cost after 4300 iterations = 0.6931414069396553\n",
      "Cost after 4400 iterations = 0.6931414002008688\n",
      "Cost after 4500 iterations = 0.6931413934669456\n",
      "Cost after 4600 iterations = 0.6931413867649404\n",
      "Cost after 4700 iterations = 0.6931413800867892\n",
      "Cost after 4800 iterations = 0.6931413734276803\n",
      "Cost after 4900 iterations = 0.6931413668327914\n",
      "Cost after 5000 iterations = 0.6931413602818445\n",
      "Cost after 5100 iterations = 0.6931413537851221\n",
      "Cost after 5200 iterations = 0.6931413473028626\n",
      "Cost after 5300 iterations = 0.6931413408730717\n",
      "Cost after 5400 iterations = 0.6931413344771269\n",
      "Cost after 5500 iterations = 0.6931413281171965\n",
      "Cost after 5600 iterations = 0.6931413217942155\n",
      "Cost after 5700 iterations = 0.6931413154922594\n",
      "Cost after 5800 iterations = 0.6931413092288656\n",
      "Cost after 5900 iterations = 0.6931413029904313\n",
      "Cost after 6000 iterations = 0.6931412967769733\n",
      "Cost after 6100 iterations = 0.6931412905849044\n",
      "Cost after 6200 iterations = 0.6931412844138758\n",
      "Cost after 6300 iterations = 0.6931412782765898\n",
      "Cost after 6400 iterations = 0.6931412721717172\n",
      "Cost after 6500 iterations = 0.6931412661046499\n",
      "Cost after 6600 iterations = 0.6931412600503877\n",
      "Cost after 6700 iterations = 0.6931412540065207\n",
      "Cost after 6800 iterations = 0.6931412479881875\n",
      "Cost after 6900 iterations = 0.6931412419913652\n",
      "Cost after 7000 iterations = 0.6931412360187138\n",
      "Cost after 7100 iterations = 0.6931412300617241\n",
      "Cost after 7200 iterations = 0.693141224115754\n",
      "Cost after 7300 iterations = 0.6931412181841031\n",
      "Cost after 7400 iterations = 0.6931412122803292\n",
      "Cost after 7500 iterations = 0.6931412064010887\n",
      "Cost after 7600 iterations = 0.6931412005317947\n",
      "Cost after 7700 iterations = 0.693141194677986\n",
      "Cost after 7800 iterations = 0.6931411888410723\n",
      "Cost after 7900 iterations = 0.6931411830328779\n",
      "Cost after 8000 iterations = 0.6931411772703913\n",
      "Cost after 8100 iterations = 0.6931411715446028\n",
      "Cost after 8200 iterations = 0.6931411658457299\n",
      "Cost after 8300 iterations = 0.6931411601795143\n",
      "Cost after 8400 iterations = 0.693141154535465\n",
      "Cost after 8500 iterations = 0.6931411489016299\n",
      "Cost after 8600 iterations = 0.6931411432829957\n",
      "Cost after 8700 iterations = 0.6931411376826218\n",
      "Cost after 8800 iterations = 0.6931411320877964\n",
      "Cost after 8900 iterations = 0.6931411265089983\n",
      "Cost after 9000 iterations = 0.6931411209473988\n",
      "Cost after 9100 iterations = 0.6931411153968762\n",
      "Cost after 9200 iterations = 0.6931411098572259\n",
      "Cost after 9300 iterations = 0.6931411043304135\n",
      "Cost after 9400 iterations = 0.6931410988205149\n",
      "Cost after 9500 iterations = 0.6931410933327908\n",
      "Cost after 9600 iterations = 0.6931410878840037\n",
      "Cost after 9700 iterations = 0.6931410824558456\n",
      "Cost after 9800 iterations = 0.6931410770449964\n",
      "Cost after 9900 iterations = 0.6931410716357385\n"
     ]
    }
   ],
   "source": [
    "for epoch in range(epochs):\n",
    "    \n",
    "    # forward prop\n",
    "    Z1 = np.dot(W1, X) + b1\n",
    "    A1 = relu(Z1)\n",
    "    \n",
    "    Z2 = np.dot(W2, A1) + b2\n",
    "    y_pred = sigmoid(Z2)\n",
    "    \n",
    "    # cost \n",
    "    cost[epoch] = -(1/m)*np.sum((y*np.log(y_pred) + (1-y)*np.log(1-y_pred)))\n",
    "    if epoch%100 == 0:\n",
    "        print(f'Cost after {epoch} iterations = {cost[epoch]}')\n",
    "    \n",
    "    # backward prop\n",
    "    dZ2 = y_pred - y\n",
    "    dW2 = (1/m)*(np.dot(dZ2, A1.T)) \n",
    "    db2 = (1/m)*np.sum(dZ2, axis=1, keepdims=True)\n",
    "    \n",
    "    dZ1 = np.dot(W2.T, dZ2) * relu_derivative(Z1)\n",
    "    dW1 = (1/m)*(np.dot(dZ1, X.T)) \n",
    "    db1 = (1/m)*np.sum(dZ1, axis=1, keepdims=True)\n",
    "    \n",
    "    # updating the parameters\n",
    "    W2 -= learning_rate*dW2\n",
    "    b2 -= learning_rate*db2\n",
    "    W1 -= learning_rate*dW1\n",
    "    b1 -= learning_rate*db1"
   ]
  },
  {
   "cell_type": "code",
   "execution_count": 11,
   "metadata": {},
   "outputs": [
    {
     "data": {
      "image/png": "[encoded data removed]",
      "text/plain": [
       "<Figure size 432x288 with 1 Axes>"
      ]
     },
     "metadata": {},
     "output_type": "display_data"
    }
   ],
   "source": [
    "plt.style.use('fivethirtyeight')\n",
    "        \n",
    "plt.plot(cost, label = 'cost')\n",
    "plt.xlabel('Epochs')\n",
    "plt.ylabel('Cost')\n",
    "plt.legend()\n",
    "plt.show()"
   ]
  },
  {
   "cell_type": "code",
   "execution_count": null,
   "metadata": {},
   "outputs": [],
   "source": []
  }
 ],
 "metadata": {
  "kernelspec": {
   "display_name": "Python 3",
   "language": "python",
   "name": "python3"
  },
  "language_info": {
   "codemirror_mode": {
    "name": "ipython",
    "version": 3
   },
   "file_extension": ".py",
   "mimetype": "text/x-python",
   "name": "python",
   "nbconvert_exporter": "python",
   "pygments_lexer": "ipython3",
   "version": "3.8.3"
  }
 },
 "nbformat": 4,
 "nbformat_minor": 4
}
