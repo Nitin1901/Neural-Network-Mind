{
 "cells": [
  {
   "cell_type": "code",
   "execution_count": null,
   "metadata": {},
   "outputs": [],
   "source": [
    "import numpy as np\n",
    "from from scipy.stats import mode"
   ]
  },
  {
   "cell_type": "code",
   "execution_count": null,
   "metadata": {},
   "outputs": [],
   "source": [
    "np.random.seed(111)"
   ]
  },
  {
   "cell_type": "code",
   "execution_count": null,
   "metadata": {},
   "outputs": [],
   "source": [
    "X = np.random.rand(1000, 3)\n",
    "y = np.random.randint(2, size=1000)"
   ]
  },
  {
   "cell_type": "code",
   "execution_count": null,
   "metadata": {},
   "outputs": [],
   "source": [
    "class kNN():\n",
    "    \n",
    "    def __init__(self, k=1, distance='L1'):\n",
    "        self.k = k\n",
    "        self.distance = distance\n",
    "        \n",
    "    def train(self, X_train, y_train):\n",
    "        self.X_train = X_train\n",
    "        self.y_train = y_train\n",
    "        \n",
    "    def predict(self, X_test):\n",
    "        \n",
    "        y_pred = np.zeros(X_test.shape[0], dtype = self.y_train.dtype)\n",
    "        \n",
    "        if self.distance == 'L1':\n",
    "            for i in range(X_test.shape[0]):\n",
    "                diff = np.sum(np.abs(X_test[i, :], self.X_train), axis = 1)\n",
    "                y_pred[i] = mode(self.y_train[a[np.argpartition(a, k)[:k]]])\n",
    "                \n",
    "        elif self.distance == 'L2':\n",
    "            for i in range(X_test.shape[0]):\n",
    "                diff = np.sqrt(np.sum(np.square(X_test[i, :], self.X_train), axis = 1))\n",
    "                y_pred[i] = mode(self.y_train[a[np.argpartition(a, k)[:k]]])\n",
    "            \n",
    "        else:\n",
    "            raise Exception(\"Wrong distance input\")\n",
    "            \n",
    "        return y_pred"
   ]
  },
  {
   "cell_type": "code",
   "execution_count": null,
   "metadata": {},
   "outputs": [],
   "source": [
    "model = kNN(distance='L2')"
   ]
  },
  {
   "cell_type": "code",
   "execution_count": null,
   "metadata": {},
   "outputs": [],
   "source": [
    "model.train(X, y)"
   ]
  },
  {
   "cell_type": "code",
   "execution_count": null,
   "metadata": {},
   "outputs": [],
   "source": [
    "model.predict(np.array([[0.  , 0.64, 9.  ]]))"
   ]
  }
 ],
 "metadata": {
  "kernelspec": {
   "display_name": "Python 3",
   "language": "python",
   "name": "python3"
  },
  "language_info": {
   "codemirror_mode": {
    "name": "ipython",
    "version": 3
   },
   "file_extension": ".py",
   "mimetype": "text/x-python",
   "name": "python",
   "nbconvert_exporter": "python",
   "pygments_lexer": "ipython3",
   "version": "3.8.3"
  }
 },
 "nbformat": 4,
 "nbformat_minor": 4
}
